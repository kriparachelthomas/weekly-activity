{
 "cells": [
  {
   "cell_type": "markdown",
   "metadata": {
    "id": "4z_Z-K1tlrS7"
   },
   "source": [
    "## 1. Complete the following code to find the area of an equilateral triangle. Output should be as displayed"
   ]
  },
  {
   "cell_type": "code",
   "execution_count": 1,
   "metadata": {
    "id": "rP2qFD_SlrS_"
   },
   "outputs": [
    {
     "name": "stdout",
     "output_type": "stream",
     "text": [
      "Enter the side of the equilateral triangle: 5\n",
      "Area of the equilateral triangle = 10.825 sq.m\n"
     ]
    }
   ],
   "source": [
    "import math\n",
    "side = float(input(\"Enter the side of the equilateral triangle: \"))\n",
    "area = ((math.sqrt(3))/4)*pow(side,2)\n",
    "area = round(area,3)\n",
    "print(\"Area of the equilateral triangle =\",area,\"sq.m\")\n",
    "\n"
   ]
  },
  {
   "cell_type": "markdown",
   "metadata": {
    "id": "TjVKjIfclrTB"
   },
   "source": [
    "## 2. Write a program to count the number of each characters in a string"
   ]
  },
  {
   "cell_type": "code",
   "execution_count": 3,
   "metadata": {
    "id": "JY5seVUQlrTC"
   },
   "outputs": [
    {
     "name": "stdout",
     "output_type": "stream",
     "text": [
      "Count of all characters in Jallianwala bagh massacre is :\n",
      " {'J': 1, 'a': 7, 'l': 3, 'i': 1, 'n': 1, 'w': 1, ' ': 2, 'b': 1, 'g': 1, 'h': 1, 'm': 1, 's': 2, 'c': 1, 'r': 1, 'e': 1}\n"
     ]
    }
   ],
   "source": [
    "string = \"Jallianwala bagh massacre\"\n",
    "all_freq = {}\n",
    "for i in string:\n",
    "    if i in all_freq:\n",
    "        all_freq[i]=all_freq[i]+1\n",
    "    else:\n",
    "         all_freq[i]=1\n",
    "print (\"Count of all characters in Jallianwala bagh massacre is :\\n \"+ str(all_freq))"
   ]
  },
  {
   "cell_type": "markdown",
   "metadata": {
    "id": "l3LCULfklrTD"
   },
   "source": [
    "## Write a program to find the area and perimeter of a rectangle using functions"
   ]
  },
  {
   "cell_type": "code",
   "execution_count": 5,
   "metadata": {
    "id": "8haQD8edlrTD"
   },
   "outputs": [
    {
     "name": "stdout",
     "output_type": "stream",
     "text": [
      "enter the value for length of rectangle4\n",
      "enter the value for the breadth of rectangle3\n",
      "area of rectangle= 12\n",
      "perimeter of rectangle 14\n"
     ]
    }
   ],
   "source": [
    "def area(l,b):\n",
    "    a=l*b\n",
    "    return(a)\n",
    "def perimeter(l,b):\n",
    "    p=2*(l+b)\n",
    "    return(p)\n",
    "l=int(input(\"enter the value for length of rectangle\"))\n",
    "b=int(input(\"enter the value for the breadth of rectangle\"))\n",
    "print(\"area of rectangle=\",area(l,b))\n",
    "print(\"perimeter of rectangle\",perimeter(l,b))"
   ]
  },
  {
   "cell_type": "markdown",
   "metadata": {
    "id": "JHK4ZdsflrTE"
   },
   "source": [
    "## 4. Write a program to print the fibonacci series till a specified number"
   ]
  },
  {
   "cell_type": "code",
   "execution_count": 6,
   "metadata": {
    "id": "LyBEj-4SlrTE"
   },
   "outputs": [
    {
     "name": "stdout",
     "output_type": "stream",
     "text": [
      "Enter the number of terms required in the Fibonacci series,n:5\n",
      "Fibonacci Series upto 5 terms:01123"
     ]
    }
   ],
   "source": [
    "n=int(input('Enter the number of terms required in the Fibonacci series,n:'))\n",
    "a=0\n",
    "b=1\n",
    "sum=0\n",
    "count = 1\n",
    "print('Fibonacci Series upto', n, 'terms:', end='')\n",
    "while(count<=n):\n",
    " print(sum, end='')\n",
    " count+=1\n",
    " a=b\n",
    " b=sum\n",
    " sum=a+b\n"
   ]
  },
  {
   "cell_type": "markdown",
   "metadata": {
    "id": "u4uBUcQKlrTE"
   },
   "source": [
    "## 5. Complete the following code to find the minimum of 3 number using cinditional statements. Output should be as displayed"
   ]
  },
  {
   "cell_type": "code",
   "execution_count": 2,
   "metadata": {
    "id": "XdZwrZjIlrTF"
   },
   "outputs": [
    {
     "name": "stdout",
     "output_type": "stream",
     "text": [
      "Enter three numbers followed by  : 22 87 56\n",
      "First number : 22\n",
      "Second number : 87\n",
      "Third number : 56\n",
      "22  is smallest\n"
     ]
    }
   ],
   "source": [
    "a,b,c = input(\"Enter three numbers followed by  : \").split()\n",
    "print(\"First number :\",a)\n",
    "print(\"Second number :\",b)\n",
    "print(\"Third number :\",c)\n",
    "if (a==b==c):\n",
    "    print(\"Entered numbers are equal!!!\")\n",
    "if (a<b) and (a<c):\n",
    "    print(a,\" is smallest\")\n",
    "elif (b<a) and (b<c):\n",
    "    print(b,\" is smallest\")\n",
    "elif(c<a) and (c<b):\n",
    "    print(c,\" is smallest\")\n"
   ]
  },
  {
   "cell_type": "markdown",
   "metadata": {
    "id": "aR_CnToWlrTG"
   },
   "source": [
    "## 6. Write a program to print star pyramind. The number of rows should be taken as input from the user"
   ]
  },
  {
   "cell_type": "code",
   "execution_count": 21,
   "metadata": {
    "id": "M37A-buplrTG"
   },
   "outputs": [
    {
     "name": "stdout",
     "output_type": "stream",
     "text": [
      "enter the number of rows5\n",
      "*\n",
      "\n",
      "**\n",
      "\n",
      "***\n",
      "\n",
      "****\n",
      "\n",
      "*****\n",
      "\n"
     ]
    }
   ],
   "source": [
    "n=int(input(\"enter the number of rows\"))\n",
    "for i in range (n):\n",
    "    for j in range(i+1):\n",
    "        print(\"*\",end=\"\")\n",
    "    print(\"\\n\")\n",
    "    "
   ]
  },
  {
   "cell_type": "markdown",
   "metadata": {
    "id": "tlY6aFWBlrTH"
   },
   "source": [
    "## 7. Complete the following code to convert hour into seconds. Output should be as displayed"
   ]
  },
  {
   "cell_type": "code",
   "execution_count": 3,
   "metadata": {
    "id": "YOZQFk7FlrTH"
   },
   "outputs": [
    {
     "name": "stdout",
     "output_type": "stream",
     "text": [
      "Enter the time in hours:2\n",
      "2  Hour is equal to 7200  Seconds\n"
     ]
    }
   ],
   "source": [
    "def to_seconds(t):\n",
    "    t=t*60*60\n",
    "    return t\n",
    "time_in_hours = int(input(\"Enter the time in hours:\"))\n",
    "print(time_in_hours ,\" Hour is equal to\" ,to_seconds(time_in_hours) ,\" Seconds\")\n"
   ]
  },
  {
   "cell_type": "markdown",
   "metadata": {
    "id": "CnYorNiLlrTI"
   },
   "source": [
    "## 8. Write a program to print multiplication table as below"
   ]
  },
  {
   "cell_type": "code",
   "execution_count": 4,
   "metadata": {
    "id": "dPQqDPuDlrTI"
   },
   "outputs": [
    {
     "name": "stdout",
     "output_type": "stream",
     "text": [
      "Enter the number:2\n",
      "1 * 2 = 2\n",
      "2 * 2 = 4\n",
      "3 * 2 = 6\n",
      "4 * 2 = 8\n",
      "5 * 2 = 10\n",
      "6 * 2 = 12\n",
      "7 * 2 = 14\n",
      "8 * 2 = 16\n",
      "9 * 2 = 18\n",
      "10 * 2 = 20\n"
     ]
    }
   ],
   "source": [
    "number=int(input(\"Enter the number:\"))\n",
    "for i in range (1,11):\n",
    "    print(i,'*',number,'=',i*number)"
   ]
  },
  {
   "cell_type": "markdown",
   "metadata": {
    "id": "Fiaez8iblrTI"
   },
   "source": [
    "## 9. Write a program to take your 5 favorite food as list and print each as 'I like Biriyani'"
   ]
  },
  {
   "cell_type": "code",
   "execution_count": 22,
   "metadata": {
    "id": "39W1zFX7lrTJ"
   },
   "outputs": [
    {
     "name": "stdout",
     "output_type": "stream",
     "text": [
      "enter 5 favourite foods\n",
      "biriyani\n",
      "porotta\n",
      "soup\n",
      "fried rice\n",
      "noodles\n",
      "My 5 favourite foods are given below:\n",
      "['biriyani', 'porotta', 'soup', 'fried rice', 'noodles']\n",
      "i like biriyani\n",
      "i like porotta\n",
      "i like soup\n",
      "i like fried rice\n",
      "i like noodles\n"
     ]
    }
   ],
   "source": [
    "foodlist=[]\n",
    "print(\"enter 5 favourite foods\")\n",
    "for i in range(0,5):\n",
    "    fav_food= input(\"\")\n",
    "    foodlist.append(fav_food)\n",
    "print(\"My 5 favourite foods are given below:\")\n",
    "print(foodlist)\n",
    "for j in range(0,5):\n",
    "    print(\"i like\",foodlist[j])"
   ]
  },
  {
   "cell_type": "markdown",
   "metadata": {
    "id": "3vlcDNNEP7d_"
   },
   "source": [
    "## 10. Find error(s) in the following code(if any) and rewrite code.\n",
    "\n"
   ]
  },
  {
   "cell_type": "code",
   "execution_count": 12,
   "metadata": {
    "id": "coREkcY3P9sG"
   },
   "outputs": [
    {
     "name": "stdout",
     "output_type": "stream",
     "text": [
      "Enter value of x:2\n",
      "They are unequal\n",
      "They are unequal\n",
      "They are equal\n",
      "They are unequal\n",
      "They are unequal\n",
      "They are unequal\n",
      "They are unequal\n",
      "They are unequal\n",
      "They are unequal\n",
      "They are unequal\n"
     ]
    }
   ],
   "source": [
    "x= int(input('Enter value of x:'))\n",
    "for y in range (0,10):\n",
    "    if x==y:\n",
    "          print(\"They are equal\")\n",
    "    else:\n",
    "         print( \"They are unequal\")"
   ]
  },
  {
   "cell_type": "code",
   "execution_count": null,
   "metadata": {},
   "outputs": [],
   "source": []
  }
 ],
 "metadata": {
  "colab": {
   "collapsed_sections": [],
   "name": "Q&A activity student file.ipynb",
   "provenance": []
  },
  "kernelspec": {
   "display_name": "Python 3",
   "language": "python",
   "name": "python3"
  },
  "language_info": {
   "codemirror_mode": {
    "name": "ipython",
    "version": 3
   },
   "file_extension": ".py",
   "mimetype": "text/x-python",
   "name": "python",
   "nbconvert_exporter": "python",
   "pygments_lexer": "ipython3",
   "version": "3.8.8"
  }
 },
 "nbformat": 4,
 "nbformat_minor": 1
}
